{
  "nbformat": 4,
  "nbformat_minor": 0,
  "metadata": {
    "colab": {
      "name": "Untitled3.ipynb",
      "provenance": [],
      "authorship_tag": "ABX9TyNfnh6lk4f5BEbRwgyW+Q5m",
      "include_colab_link": true
    },
    "kernelspec": {
      "name": "python3",
      "display_name": "Python 3"
    },
    "language_info": {
      "name": "python"
    }
  },
  "cells": [
    {
      "cell_type": "markdown",
      "metadata": {
        "id": "view-in-github",
        "colab_type": "text"
      },
      "source": [
        "<a href=\"https://colab.research.google.com/github/JmeSong/006975/blob/master/calcrange.ipynb\" target=\"_parent\"><img src=\"https://colab.research.google.com/assets/colab-badge.svg\" alt=\"Open In Colab\"/></a>"
      ]
    },
    {
      "cell_type": "code",
      "metadata": {
        "colab": {
          "base_uri": "https://localhost:8080/"
        },
        "id": "rEuHiKG28myZ",
        "outputId": "93570895-d3c8-45d0-e980-f0de965a9afb"
      },
      "source": [
        "# calcrange\n",
        "\n",
        "def calcrange (begin, end):\n",
        "  sum = 0\n",
        "  for num in range (begin, end + 1):\n",
        "    sum += num\n",
        "  return sum\n",
        "\n",
        "print (\"3 ~ 7 =\", calcrange(3, 7))"
      ],
      "execution_count": 1,
      "outputs": [
        {
          "output_type": "stream",
          "text": [
            "3 ~ 7 = 25\n"
          ],
          "name": "stdout"
        }
      ]
    }
  ]
}