{
  "nbformat": 4,
  "nbformat_minor": 0,
  "metadata": {
    "colab": {
      "name": "Untitled1.ipynb",
      "provenance": [],
      "authorship_tag": "ABX9TyME8hSZAVwjFvviQxlOg8E7",
      "include_colab_link": true
    },
    "kernelspec": {
      "name": "python3",
      "display_name": "Python 3"
    },
    "language_info": {
      "name": "python"
    }
  },
  "cells": [
    {
      "cell_type": "markdown",
      "metadata": {
        "id": "view-in-github",
        "colab_type": "text"
      },
      "source": [
        "<a href=\"https://colab.research.google.com/github/JmeSong/006975/blob/master/repeat.ipynb\" target=\"_parent\"><img src=\"https://colab.research.google.com/assets/colab-badge.svg\" alt=\"Open In Colab\"/></a>"
      ]
    },
    {
      "cell_type": "code",
      "metadata": {
        "colab": {
          "base_uri": "https://localhost:8080/"
        },
        "id": "twedVx6k1fir",
        "outputId": "7a4d11b8-76bd-4d2c-d0e1-103340ba76ee"
      },
      "source": [
        "sum = 0\n",
        "for num in range( 5):\n",
        "    sum += num\n",
        "print(\"~ 4 =\", sum)\n",
        "\n",
        "sum = 0\n",
        "for num in range(11):\n",
        "    sum += num\n",
        "print(\"~10 =\", sum)"
      ],
      "execution_count": 1,
      "outputs": [
        {
          "output_type": "stream",
          "text": [
            "~ 4 = 10\n",
            "~10 = 55\n"
          ],
          "name": "stdout"
        }
      ]
    }
  ]
}